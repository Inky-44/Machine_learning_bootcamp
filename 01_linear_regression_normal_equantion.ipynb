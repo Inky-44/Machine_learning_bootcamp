{
  "nbformat": 4,
  "nbformat_minor": 0,
  "metadata": {
    "colab": {
      "name": "01_linear_regression_normal_equantion.ipynb",
      "provenance": [],
      "authorship_tag": "ABX9TyM8QsdY0QOwRMNIGrEKUXdA",
      "include_colab_link": true
    },
    "kernelspec": {
      "name": "python3",
      "display_name": "Python 3"
    }
  },
  "cells": [
    {
      "cell_type": "markdown",
      "metadata": {
        "id": "view-in-github",
        "colab_type": "text"
      },
      "source": [
        "<a href=\"https://colab.research.google.com/github/Inky-44/Machine_learning_bootcamp/blob/main/01_linear_regression_normal_equantion.ipynb\" target=\"_parent\"><img src=\"https://colab.research.google.com/assets/colab-badge.svg\" alt=\"Open In Colab\"/></a>"
      ]
    },
    {
      "cell_type": "code",
      "metadata": {
        "id": "UyBhmEUgkUnF"
      },
      "source": [
        "import numpy as np\r\n",
        "import pandas as pd\r\n",
        "import plotly.express as px\r\n",
        "\r\n",
        "np.random.seed(42)"
      ],
      "execution_count": 2,
      "outputs": []
    },
    {
      "cell_type": "code",
      "metadata": {
        "colab": {
          "base_uri": "https://localhost:8080/"
        },
        "id": "htpYHkw_koBJ",
        "outputId": "3d1c6611-561a-4aec-a8fe-0f7d64a45110"
      },
      "source": [
        "X1 = np.array([1,2,3,4,5,6])\r\n",
        "Y = np.array([3000, 3250, 3500, 3750, 4000, 4250])\r\n",
        "m = len(X1)\r\n",
        "\r\n",
        "print(f'Lata pracy: {X1}')\r\n",
        "print(f'Wynagrodzenie: {Y}')\r\n",
        "print(f'Liczba próbek: {m}')"
      ],
      "execution_count": 4,
      "outputs": [
        {
          "output_type": "stream",
          "text": [
            "Lata pracy: [1 2 3 4 5 6]\n",
            "Wynagrodzenie: [3000 3250 3500 3750 4000 4250]\n",
            "Liczba próbek: 6\n"
          ],
          "name": "stdout"
        }
      ]
    },
    {
      "cell_type": "code",
      "metadata": {
        "colab": {
          "base_uri": "https://localhost:8080/"
        },
        "id": "n9KIB5CJlPcw",
        "outputId": "784ea28d-c8e8-4063-9608-3c4341e52317"
      },
      "source": [
        "X1 = X1.reshape(m, 1)\r\n",
        "Y = Y.reshape(-1, 1)\r\n",
        "print(X1)\r\n",
        "print(X1.shape)"
      ],
      "execution_count": 7,
      "outputs": [
        {
          "output_type": "stream",
          "text": [
            "[[1]\n",
            " [2]\n",
            " [3]\n",
            " [4]\n",
            " [5]\n",
            " [6]]\n",
            "(6, 1)\n"
          ],
          "name": "stdout"
        }
      ]
    },
    {
      "cell_type": "code",
      "metadata": {
        "colab": {
          "base_uri": "https://localhost:8080/"
        },
        "id": "y4Qz1iRIljyo",
        "outputId": "acc257ba-47c8-4691-ac67-91987c6b9285"
      },
      "source": [
        "bias = np.ones((m,1))\r\n",
        "print(bias)\r\n",
        "print(bias.shape)"
      ],
      "execution_count": 13,
      "outputs": [
        {
          "output_type": "stream",
          "text": [
            "[[1.]\n",
            " [1.]\n",
            " [1.]\n",
            " [1.]\n",
            " [1.]\n",
            " [1.]]\n",
            "(6, 1)\n"
          ],
          "name": "stdout"
        }
      ]
    },
    {
      "cell_type": "code",
      "metadata": {
        "colab": {
          "base_uri": "https://localhost:8080/"
        },
        "id": "y7U98NLolxNn",
        "outputId": "76eedc6b-f50c-4a9c-fd52-a2bc247e5b1e"
      },
      "source": [
        "X = np.append(bias, X1, axis=1)\r\n",
        "print(X)\r\n",
        "print(X.shape)"
      ],
      "execution_count": 14,
      "outputs": [
        {
          "output_type": "stream",
          "text": [
            "[[1. 1.]\n",
            " [1. 2.]\n",
            " [1. 3.]\n",
            " [1. 4.]\n",
            " [1. 5.]\n",
            " [1. 6.]]\n",
            "(6, 2)\n"
          ],
          "name": "stdout"
        }
      ]
    },
    {
      "cell_type": "markdown",
      "metadata": {
        "id": "1pP0-H_6vr5w"
      },
      "source": [
        "Równanie normalne\r\n",
        "Regresja liniowa w $R^2$:$$Y = w_0 + w_1X_1$$$$Y = W^TX$$gdzie:$$W= \\left[\\begin{matrix}w_0\\\\w_1\\end{matrix}\\right]$$$$ X= \\left[\\begin{matrix}1\\\\X_1\\end{matrix}\\right] $$stąd$$ W^T= \\left[\\begin{matrix}w_0&amp;w_1\\end{matrix}\\right] $$\r\n",
        "$$Y = W^TX = \\left[\\begin{matrix}w_0&amp;w_1\\end{matrix}\\right] \\cdot  \\left[\\begin{matrix}1\\\\X_1\\end{matrix}\\right] = w_0 + w_1X_1$$\r\n",
        "\r\n",
        "Równanie normalne - równanie pozwalające obliczyć minimum funkcji straty (o ile istnieje)$$W = (X^TX)^{-1}(X^TY)$$"
      ]
    },
    {
      "cell_type": "code",
      "metadata": {
        "colab": {
          "base_uri": "https://localhost:8080/"
        },
        "id": "aE32uEN3vfr8",
        "outputId": "822b7f5e-8e7a-4bf3-f32f-7cfac5d4f9ad"
      },
      "source": [
        "np.dot(X.T, X)"
      ],
      "execution_count": 15,
      "outputs": [
        {
          "output_type": "execute_result",
          "data": {
            "text/plain": [
              "array([[ 6., 21.],\n",
              "       [21., 91.]])"
            ]
          },
          "metadata": {
            "tags": []
          },
          "execution_count": 15
        }
      ]
    },
    {
      "cell_type": "code",
      "metadata": {
        "colab": {
          "base_uri": "https://localhost:8080/"
        },
        "id": "JlTmqzBfvz7B",
        "outputId": "10660c75-611d-494d-a66d-3e2adc8d39d0"
      },
      "source": [
        "L = np.linalg.inv(np.dot(X.T, X))\r\n",
        "print(L)"
      ],
      "execution_count": 18,
      "outputs": [
        {
          "output_type": "stream",
          "text": [
            "[[ 0.86666667 -0.2       ]\n",
            " [-0.2         0.05714286]]\n"
          ],
          "name": "stdout"
        }
      ]
    },
    {
      "cell_type": "code",
      "metadata": {
        "colab": {
          "base_uri": "https://localhost:8080/"
        },
        "id": "sGRQFu2yv75H",
        "outputId": "22838a4d-9f59-4a3f-cf17-4d8f8eb12bd4"
      },
      "source": [
        "P = np.dot(X.T, Y)\r\n",
        "P"
      ],
      "execution_count": 19,
      "outputs": [
        {
          "output_type": "execute_result",
          "data": {
            "text/plain": [
              "array([[21750.],\n",
              "       [80500.]])"
            ]
          },
          "metadata": {
            "tags": []
          },
          "execution_count": 19
        }
      ]
    },
    {
      "cell_type": "code",
      "metadata": {
        "colab": {
          "base_uri": "https://localhost:8080/"
        },
        "id": "oVHo-7DEwcxr",
        "outputId": "63b92d05-2dec-4a95-eae2-de08de86100a"
      },
      "source": [
        "W = np.dot(L,P)\r\n",
        "W"
      ],
      "execution_count": 21,
      "outputs": [
        {
          "output_type": "execute_result",
          "data": {
            "text/plain": [
              "array([[2750.],\n",
              "       [ 250.]])"
            ]
          },
          "metadata": {
            "tags": []
          },
          "execution_count": 21
        }
      ]
    },
    {
      "cell_type": "markdown",
      "metadata": {
        "id": "yvOh0s8wwp1m"
      },
      "source": [
        "Końcowa postać modelu$$Y = 2750 + 250X_1$$"
      ]
    },
    {
      "cell_type": "code",
      "metadata": {
        "colab": {
          "base_uri": "https://localhost:8080/"
        },
        "id": "W7YlnJR4whoD",
        "outputId": "0d3d7d43-f2b4-444d-e81f-12896c20b634"
      },
      "source": [
        "from sklearn.linear_model import LinearRegression\r\n",
        "\r\n",
        "regression = LinearRegression()\r\n",
        "regression.fit(X1, Y)\r\n",
        "\r\n",
        "print(regression.intercept_)\r\n",
        "print(regression.coef_[0])"
      ],
      "execution_count": 24,
      "outputs": [
        {
          "output_type": "stream",
          "text": [
            "[2750.]\n",
            "[250.]\n"
          ],
          "name": "stdout"
        }
      ]
    },
    {
      "cell_type": "code",
      "metadata": {
        "id": "b3FSgd-wA6e1"
      },
      "source": [
        ""
      ],
      "execution_count": null,
      "outputs": []
    }
  ]
}